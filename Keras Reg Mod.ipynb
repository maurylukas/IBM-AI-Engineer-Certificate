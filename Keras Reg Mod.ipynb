{
 "cells": [
  {
   "cell_type": "markdown",
   "metadata": {
    "button": false,
    "deletable": true,
    "new_sheet": false,
    "run_control": {
     "read_only": false
    }
   },
   "source": [
    "<a href=\"https://cognitiveclass.ai/?utm_medium=Exinfluencer&utm_source=Exinfluencer&utm_content=000026UJ&utm_term=10006555&utm_id=NA-SkillsNetwork-Channel-SkillsNetworkCoursesIBMDeveloperSkillsNetworkDL0101ENSkillsNetwork20718188-2022-01-01\"><img src = \"https://s3-api.us-geo.objectstorage.softlayer.net/cf-courses-data/CognitiveClass/Logos/organization_logo/organization_logo.png\" width = 400> </a>\n",
    "\n",
    "<h1 align=center><font size = 5>Regression Models with Keras</font></h1>\n"
   ]
  },
  {
   "cell_type": "markdown",
   "metadata": {},
   "source": [
    "<h3>Objective for this Notebook<h3>    \n",
    "<h5> 1. Download and Clean dataset </h5>\n",
    "<h5> 2. A. Build a baseline model </h5>\n",
    "<h5> 3. B. Normalize the data </h5>     \n",
    "<h5> 4. C. Increase the number of epochs </h5>\n",
    "<h5> 5. D. Increase the number of hidden layers </h5>     "
   ]
  },
  {
   "cell_type": "markdown",
   "metadata": {
    "button": false,
    "deletable": true,
    "new_sheet": false,
    "run_control": {
     "read_only": false
    }
   },
   "source": [
    "<a id=\"item31\"></a>\n"
   ]
  },
  {
   "cell_type": "markdown",
   "metadata": {
    "button": false,
    "deletable": true,
    "new_sheet": false,
    "run_control": {
     "read_only": false
    }
   },
   "source": [
    "## Download and Clean Dataset\n"
   ]
  },
  {
   "cell_type": "markdown",
   "metadata": {
    "button": false,
    "deletable": true,
    "new_sheet": false,
    "run_control": {
     "read_only": false
    }
   },
   "source": [
    "Let's start by importing the <em>pandas</em> and the Numpy libraries.\n"
   ]
  },
  {
   "cell_type": "code",
   "execution_count": null,
   "metadata": {},
   "outputs": [],
   "source": [
    "# All Libraries required for this lab are listed below. The libraries pre-installed on Skills Network Labs are commented. \n",
    "# If you run this notebook on a different environment, e.g. your desktop, you may need to uncomment and install certain libraries.\n",
    "\n",
    "#!pip install numpy==1.21.4\n",
    "#!pip install pandas==1.3.4\n",
    "#!pip install keras==2.1.6"
   ]
  },
  {
   "cell_type": "code",
   "execution_count": 2,
   "metadata": {
    "button": false,
    "deletable": true,
    "new_sheet": false,
    "run_control": {
     "read_only": false
    }
   },
   "outputs": [],
   "source": [
    "import pandas as pd\n",
    "import numpy as np"
   ]
  },
  {
   "cell_type": "markdown",
   "metadata": {
    "button": false,
    "deletable": true,
    "new_sheet": false,
    "run_control": {
     "read_only": false
    }
   },
   "source": [
    "<strong>The dataset is about the compressive strength of different samples of concrete based on the volumes of the different ingredients that were used to make them. Ingredients include:</strong>\n",
    "\n",
    "<strong>1. Cement</strong>\n",
    "\n",
    "<strong>2. Blast Furnace Slag</strong>\n",
    "\n",
    "<strong>3. Fly Ash</strong>\n",
    "\n",
    "<strong>4. Water</strong>\n",
    "\n",
    "<strong>5. Superplasticizer</strong>\n",
    "\n",
    "<strong>6. Coarse Aggregate</strong>\n",
    "\n",
    "<strong>7. Fine Aggregate</strong>\n"
   ]
  },
  {
   "cell_type": "markdown",
   "metadata": {
    "button": false,
    "deletable": true,
    "new_sheet": false,
    "run_control": {
     "read_only": false
    }
   },
   "source": [
    "Let's download the data and read it into a <em>pandas</em> dataframe.\n"
   ]
  },
  {
   "cell_type": "code",
   "execution_count": 3,
   "metadata": {
    "button": false,
    "deletable": true,
    "new_sheet": false,
    "run_control": {
     "read_only": false
    }
   },
   "outputs": [
    {
     "data": {
      "text/html": [
       "<div>\n",
       "<style scoped>\n",
       "    .dataframe tbody tr th:only-of-type {\n",
       "        vertical-align: middle;\n",
       "    }\n",
       "\n",
       "    .dataframe tbody tr th {\n",
       "        vertical-align: top;\n",
       "    }\n",
       "\n",
       "    .dataframe thead th {\n",
       "        text-align: right;\n",
       "    }\n",
       "</style>\n",
       "<table border=\"1\" class=\"dataframe\">\n",
       "  <thead>\n",
       "    <tr style=\"text-align: right;\">\n",
       "      <th></th>\n",
       "      <th>Cement</th>\n",
       "      <th>Blast Furnace Slag</th>\n",
       "      <th>Fly Ash</th>\n",
       "      <th>Water</th>\n",
       "      <th>Superplasticizer</th>\n",
       "      <th>Coarse Aggregate</th>\n",
       "      <th>Fine Aggregate</th>\n",
       "      <th>Age</th>\n",
       "      <th>Strength</th>\n",
       "    </tr>\n",
       "  </thead>\n",
       "  <tbody>\n",
       "    <tr>\n",
       "      <th>0</th>\n",
       "      <td>540.0</td>\n",
       "      <td>0.0</td>\n",
       "      <td>0.0</td>\n",
       "      <td>162.0</td>\n",
       "      <td>2.5</td>\n",
       "      <td>1040.0</td>\n",
       "      <td>676.0</td>\n",
       "      <td>28</td>\n",
       "      <td>79.99</td>\n",
       "    </tr>\n",
       "    <tr>\n",
       "      <th>1</th>\n",
       "      <td>540.0</td>\n",
       "      <td>0.0</td>\n",
       "      <td>0.0</td>\n",
       "      <td>162.0</td>\n",
       "      <td>2.5</td>\n",
       "      <td>1055.0</td>\n",
       "      <td>676.0</td>\n",
       "      <td>28</td>\n",
       "      <td>61.89</td>\n",
       "    </tr>\n",
       "    <tr>\n",
       "      <th>2</th>\n",
       "      <td>332.5</td>\n",
       "      <td>142.5</td>\n",
       "      <td>0.0</td>\n",
       "      <td>228.0</td>\n",
       "      <td>0.0</td>\n",
       "      <td>932.0</td>\n",
       "      <td>594.0</td>\n",
       "      <td>270</td>\n",
       "      <td>40.27</td>\n",
       "    </tr>\n",
       "    <tr>\n",
       "      <th>3</th>\n",
       "      <td>332.5</td>\n",
       "      <td>142.5</td>\n",
       "      <td>0.0</td>\n",
       "      <td>228.0</td>\n",
       "      <td>0.0</td>\n",
       "      <td>932.0</td>\n",
       "      <td>594.0</td>\n",
       "      <td>365</td>\n",
       "      <td>41.05</td>\n",
       "    </tr>\n",
       "    <tr>\n",
       "      <th>4</th>\n",
       "      <td>198.6</td>\n",
       "      <td>132.4</td>\n",
       "      <td>0.0</td>\n",
       "      <td>192.0</td>\n",
       "      <td>0.0</td>\n",
       "      <td>978.4</td>\n",
       "      <td>825.5</td>\n",
       "      <td>360</td>\n",
       "      <td>44.30</td>\n",
       "    </tr>\n",
       "  </tbody>\n",
       "</table>\n",
       "</div>"
      ],
      "text/plain": [
       "   Cement  Blast Furnace Slag  Fly Ash  Water  Superplasticizer  \\\n",
       "0   540.0                 0.0      0.0  162.0               2.5   \n",
       "1   540.0                 0.0      0.0  162.0               2.5   \n",
       "2   332.5               142.5      0.0  228.0               0.0   \n",
       "3   332.5               142.5      0.0  228.0               0.0   \n",
       "4   198.6               132.4      0.0  192.0               0.0   \n",
       "\n",
       "   Coarse Aggregate  Fine Aggregate  Age  Strength  \n",
       "0            1040.0           676.0   28     79.99  \n",
       "1            1055.0           676.0   28     61.89  \n",
       "2             932.0           594.0  270     40.27  \n",
       "3             932.0           594.0  365     41.05  \n",
       "4             978.4           825.5  360     44.30  "
      ]
     },
     "execution_count": 3,
     "metadata": {},
     "output_type": "execute_result"
    }
   ],
   "source": [
    "concrete_data = pd.read_csv('https://cocl.us/concrete_data')\n",
    "concrete_data.head()"
   ]
  },
  {
   "cell_type": "markdown",
   "metadata": {
    "button": false,
    "deletable": true,
    "new_sheet": false,
    "run_control": {
     "read_only": false
    }
   },
   "source": [
    "So the first concrete sample has 540 cubic meter of cement, 0 cubic meter of blast furnace slag, 0 cubic meter of fly ash, 162 cubic meter of water, 2.5 cubic meter of superplaticizer, 1040 cubic meter of coarse aggregate, 676 cubic meter of fine aggregate. Such a concrete mix which is 28 days old, has a compressive strength of 79.99 MPa.\n"
   ]
  },
  {
   "cell_type": "markdown",
   "metadata": {
    "button": false,
    "deletable": true,
    "new_sheet": false,
    "run_control": {
     "read_only": false
    }
   },
   "source": [
    "#### Let's check how many data points we have.\n"
   ]
  },
  {
   "cell_type": "code",
   "execution_count": 4,
   "metadata": {
    "button": false,
    "deletable": true,
    "new_sheet": false,
    "run_control": {
     "read_only": false
    }
   },
   "outputs": [
    {
     "data": {
      "text/plain": [
       "(1030, 9)"
      ]
     },
     "execution_count": 4,
     "metadata": {},
     "output_type": "execute_result"
    }
   ],
   "source": [
    "concrete_data.shape"
   ]
  },
  {
   "cell_type": "markdown",
   "metadata": {
    "button": false,
    "deletable": true,
    "new_sheet": false,
    "run_control": {
     "read_only": false
    }
   },
   "source": [
    "So, there are approximately 1000 samples to train our model on. Because of the few samples, we have to be careful not to overfit the training data.\n"
   ]
  },
  {
   "cell_type": "markdown",
   "metadata": {
    "button": false,
    "deletable": true,
    "new_sheet": false,
    "run_control": {
     "read_only": false
    }
   },
   "source": [
    "Let's check the dataset for any missing values.\n"
   ]
  },
  {
   "cell_type": "code",
   "execution_count": 5,
   "metadata": {
    "button": false,
    "deletable": true,
    "new_sheet": false,
    "run_control": {
     "read_only": false
    }
   },
   "outputs": [
    {
     "data": {
      "text/html": [
       "<div>\n",
       "<style scoped>\n",
       "    .dataframe tbody tr th:only-of-type {\n",
       "        vertical-align: middle;\n",
       "    }\n",
       "\n",
       "    .dataframe tbody tr th {\n",
       "        vertical-align: top;\n",
       "    }\n",
       "\n",
       "    .dataframe thead th {\n",
       "        text-align: right;\n",
       "    }\n",
       "</style>\n",
       "<table border=\"1\" class=\"dataframe\">\n",
       "  <thead>\n",
       "    <tr style=\"text-align: right;\">\n",
       "      <th></th>\n",
       "      <th>Cement</th>\n",
       "      <th>Blast Furnace Slag</th>\n",
       "      <th>Fly Ash</th>\n",
       "      <th>Water</th>\n",
       "      <th>Superplasticizer</th>\n",
       "      <th>Coarse Aggregate</th>\n",
       "      <th>Fine Aggregate</th>\n",
       "      <th>Age</th>\n",
       "      <th>Strength</th>\n",
       "    </tr>\n",
       "  </thead>\n",
       "  <tbody>\n",
       "    <tr>\n",
       "      <th>count</th>\n",
       "      <td>1030.000000</td>\n",
       "      <td>1030.000000</td>\n",
       "      <td>1030.000000</td>\n",
       "      <td>1030.000000</td>\n",
       "      <td>1030.000000</td>\n",
       "      <td>1030.000000</td>\n",
       "      <td>1030.000000</td>\n",
       "      <td>1030.000000</td>\n",
       "      <td>1030.000000</td>\n",
       "    </tr>\n",
       "    <tr>\n",
       "      <th>mean</th>\n",
       "      <td>281.167864</td>\n",
       "      <td>73.895825</td>\n",
       "      <td>54.188350</td>\n",
       "      <td>181.567282</td>\n",
       "      <td>6.204660</td>\n",
       "      <td>972.918932</td>\n",
       "      <td>773.580485</td>\n",
       "      <td>45.662136</td>\n",
       "      <td>35.817961</td>\n",
       "    </tr>\n",
       "    <tr>\n",
       "      <th>std</th>\n",
       "      <td>104.506364</td>\n",
       "      <td>86.279342</td>\n",
       "      <td>63.997004</td>\n",
       "      <td>21.354219</td>\n",
       "      <td>5.973841</td>\n",
       "      <td>77.753954</td>\n",
       "      <td>80.175980</td>\n",
       "      <td>63.169912</td>\n",
       "      <td>16.705742</td>\n",
       "    </tr>\n",
       "    <tr>\n",
       "      <th>min</th>\n",
       "      <td>102.000000</td>\n",
       "      <td>0.000000</td>\n",
       "      <td>0.000000</td>\n",
       "      <td>121.800000</td>\n",
       "      <td>0.000000</td>\n",
       "      <td>801.000000</td>\n",
       "      <td>594.000000</td>\n",
       "      <td>1.000000</td>\n",
       "      <td>2.330000</td>\n",
       "    </tr>\n",
       "    <tr>\n",
       "      <th>25%</th>\n",
       "      <td>192.375000</td>\n",
       "      <td>0.000000</td>\n",
       "      <td>0.000000</td>\n",
       "      <td>164.900000</td>\n",
       "      <td>0.000000</td>\n",
       "      <td>932.000000</td>\n",
       "      <td>730.950000</td>\n",
       "      <td>7.000000</td>\n",
       "      <td>23.710000</td>\n",
       "    </tr>\n",
       "    <tr>\n",
       "      <th>50%</th>\n",
       "      <td>272.900000</td>\n",
       "      <td>22.000000</td>\n",
       "      <td>0.000000</td>\n",
       "      <td>185.000000</td>\n",
       "      <td>6.400000</td>\n",
       "      <td>968.000000</td>\n",
       "      <td>779.500000</td>\n",
       "      <td>28.000000</td>\n",
       "      <td>34.445000</td>\n",
       "    </tr>\n",
       "    <tr>\n",
       "      <th>75%</th>\n",
       "      <td>350.000000</td>\n",
       "      <td>142.950000</td>\n",
       "      <td>118.300000</td>\n",
       "      <td>192.000000</td>\n",
       "      <td>10.200000</td>\n",
       "      <td>1029.400000</td>\n",
       "      <td>824.000000</td>\n",
       "      <td>56.000000</td>\n",
       "      <td>46.135000</td>\n",
       "    </tr>\n",
       "    <tr>\n",
       "      <th>max</th>\n",
       "      <td>540.000000</td>\n",
       "      <td>359.400000</td>\n",
       "      <td>200.100000</td>\n",
       "      <td>247.000000</td>\n",
       "      <td>32.200000</td>\n",
       "      <td>1145.000000</td>\n",
       "      <td>992.600000</td>\n",
       "      <td>365.000000</td>\n",
       "      <td>82.600000</td>\n",
       "    </tr>\n",
       "  </tbody>\n",
       "</table>\n",
       "</div>"
      ],
      "text/plain": [
       "            Cement  Blast Furnace Slag      Fly Ash        Water  \\\n",
       "count  1030.000000         1030.000000  1030.000000  1030.000000   \n",
       "mean    281.167864           73.895825    54.188350   181.567282   \n",
       "std     104.506364           86.279342    63.997004    21.354219   \n",
       "min     102.000000            0.000000     0.000000   121.800000   \n",
       "25%     192.375000            0.000000     0.000000   164.900000   \n",
       "50%     272.900000           22.000000     0.000000   185.000000   \n",
       "75%     350.000000          142.950000   118.300000   192.000000   \n",
       "max     540.000000          359.400000   200.100000   247.000000   \n",
       "\n",
       "       Superplasticizer  Coarse Aggregate  Fine Aggregate          Age  \\\n",
       "count       1030.000000       1030.000000     1030.000000  1030.000000   \n",
       "mean           6.204660        972.918932      773.580485    45.662136   \n",
       "std            5.973841         77.753954       80.175980    63.169912   \n",
       "min            0.000000        801.000000      594.000000     1.000000   \n",
       "25%            0.000000        932.000000      730.950000     7.000000   \n",
       "50%            6.400000        968.000000      779.500000    28.000000   \n",
       "75%           10.200000       1029.400000      824.000000    56.000000   \n",
       "max           32.200000       1145.000000      992.600000   365.000000   \n",
       "\n",
       "          Strength  \n",
       "count  1030.000000  \n",
       "mean     35.817961  \n",
       "std      16.705742  \n",
       "min       2.330000  \n",
       "25%      23.710000  \n",
       "50%      34.445000  \n",
       "75%      46.135000  \n",
       "max      82.600000  "
      ]
     },
     "execution_count": 5,
     "metadata": {},
     "output_type": "execute_result"
    }
   ],
   "source": [
    "concrete_data.describe()"
   ]
  },
  {
   "cell_type": "code",
   "execution_count": 6,
   "metadata": {
    "button": false,
    "deletable": true,
    "new_sheet": false,
    "run_control": {
     "read_only": false
    }
   },
   "outputs": [
    {
     "data": {
      "text/plain": [
       "Cement                0\n",
       "Blast Furnace Slag    0\n",
       "Fly Ash               0\n",
       "Water                 0\n",
       "Superplasticizer      0\n",
       "Coarse Aggregate      0\n",
       "Fine Aggregate        0\n",
       "Age                   0\n",
       "Strength              0\n",
       "dtype: int64"
      ]
     },
     "execution_count": 6,
     "metadata": {},
     "output_type": "execute_result"
    }
   ],
   "source": [
    "concrete_data.isnull().sum()"
   ]
  },
  {
   "cell_type": "markdown",
   "metadata": {
    "button": false,
    "deletable": true,
    "new_sheet": false,
    "run_control": {
     "read_only": false
    }
   },
   "source": [
    "The data looks very clean and is ready to be used to build our model.\n"
   ]
  },
  {
   "cell_type": "markdown",
   "metadata": {
    "button": false,
    "deletable": true,
    "new_sheet": false,
    "run_control": {
     "read_only": false
    }
   },
   "source": [
    "#### Split data into predictors and target\n"
   ]
  },
  {
   "cell_type": "markdown",
   "metadata": {},
   "source": [
    "The target variable in this problem is the concrete sample strength. Therefore, our predictors will be all the other columns.\n"
   ]
  },
  {
   "cell_type": "code",
   "execution_count": 7,
   "metadata": {
    "button": false,
    "deletable": true,
    "new_sheet": false,
    "run_control": {
     "read_only": false
    }
   },
   "outputs": [],
   "source": [
    "concrete_data_columns = concrete_data.columns\n",
    "\n",
    "predictors = concrete_data[concrete_data_columns[concrete_data_columns != 'Strength']] # all columns except Strength\n",
    "target = concrete_data['Strength'] # Strength column"
   ]
  },
  {
   "cell_type": "markdown",
   "metadata": {
    "button": false,
    "deletable": true,
    "new_sheet": false,
    "run_control": {
     "read_only": false
    }
   },
   "source": [
    "<a id=\"item2\"></a>\n"
   ]
  },
  {
   "cell_type": "markdown",
   "metadata": {
    "button": false,
    "deletable": true,
    "new_sheet": false,
    "run_control": {
     "read_only": false
    }
   },
   "source": [
    "Let's do a quick sanity check of the predictors and the target dataframes.\n"
   ]
  },
  {
   "cell_type": "code",
   "execution_count": 8,
   "metadata": {
    "button": false,
    "deletable": true,
    "new_sheet": false,
    "run_control": {
     "read_only": false
    }
   },
   "outputs": [
    {
     "data": {
      "text/html": [
       "<div>\n",
       "<style scoped>\n",
       "    .dataframe tbody tr th:only-of-type {\n",
       "        vertical-align: middle;\n",
       "    }\n",
       "\n",
       "    .dataframe tbody tr th {\n",
       "        vertical-align: top;\n",
       "    }\n",
       "\n",
       "    .dataframe thead th {\n",
       "        text-align: right;\n",
       "    }\n",
       "</style>\n",
       "<table border=\"1\" class=\"dataframe\">\n",
       "  <thead>\n",
       "    <tr style=\"text-align: right;\">\n",
       "      <th></th>\n",
       "      <th>Cement</th>\n",
       "      <th>Blast Furnace Slag</th>\n",
       "      <th>Fly Ash</th>\n",
       "      <th>Water</th>\n",
       "      <th>Superplasticizer</th>\n",
       "      <th>Coarse Aggregate</th>\n",
       "      <th>Fine Aggregate</th>\n",
       "      <th>Age</th>\n",
       "    </tr>\n",
       "  </thead>\n",
       "  <tbody>\n",
       "    <tr>\n",
       "      <th>0</th>\n",
       "      <td>540.0</td>\n",
       "      <td>0.0</td>\n",
       "      <td>0.0</td>\n",
       "      <td>162.0</td>\n",
       "      <td>2.5</td>\n",
       "      <td>1040.0</td>\n",
       "      <td>676.0</td>\n",
       "      <td>28</td>\n",
       "    </tr>\n",
       "    <tr>\n",
       "      <th>1</th>\n",
       "      <td>540.0</td>\n",
       "      <td>0.0</td>\n",
       "      <td>0.0</td>\n",
       "      <td>162.0</td>\n",
       "      <td>2.5</td>\n",
       "      <td>1055.0</td>\n",
       "      <td>676.0</td>\n",
       "      <td>28</td>\n",
       "    </tr>\n",
       "    <tr>\n",
       "      <th>2</th>\n",
       "      <td>332.5</td>\n",
       "      <td>142.5</td>\n",
       "      <td>0.0</td>\n",
       "      <td>228.0</td>\n",
       "      <td>0.0</td>\n",
       "      <td>932.0</td>\n",
       "      <td>594.0</td>\n",
       "      <td>270</td>\n",
       "    </tr>\n",
       "    <tr>\n",
       "      <th>3</th>\n",
       "      <td>332.5</td>\n",
       "      <td>142.5</td>\n",
       "      <td>0.0</td>\n",
       "      <td>228.0</td>\n",
       "      <td>0.0</td>\n",
       "      <td>932.0</td>\n",
       "      <td>594.0</td>\n",
       "      <td>365</td>\n",
       "    </tr>\n",
       "    <tr>\n",
       "      <th>4</th>\n",
       "      <td>198.6</td>\n",
       "      <td>132.4</td>\n",
       "      <td>0.0</td>\n",
       "      <td>192.0</td>\n",
       "      <td>0.0</td>\n",
       "      <td>978.4</td>\n",
       "      <td>825.5</td>\n",
       "      <td>360</td>\n",
       "    </tr>\n",
       "  </tbody>\n",
       "</table>\n",
       "</div>"
      ],
      "text/plain": [
       "   Cement  Blast Furnace Slag  Fly Ash  Water  Superplasticizer  \\\n",
       "0   540.0                 0.0      0.0  162.0               2.5   \n",
       "1   540.0                 0.0      0.0  162.0               2.5   \n",
       "2   332.5               142.5      0.0  228.0               0.0   \n",
       "3   332.5               142.5      0.0  228.0               0.0   \n",
       "4   198.6               132.4      0.0  192.0               0.0   \n",
       "\n",
       "   Coarse Aggregate  Fine Aggregate  Age  \n",
       "0            1040.0           676.0   28  \n",
       "1            1055.0           676.0   28  \n",
       "2             932.0           594.0  270  \n",
       "3             932.0           594.0  365  \n",
       "4             978.4           825.5  360  "
      ]
     },
     "execution_count": 8,
     "metadata": {},
     "output_type": "execute_result"
    }
   ],
   "source": [
    "predictors.head()"
   ]
  },
  {
   "cell_type": "code",
   "execution_count": 9,
   "metadata": {
    "button": false,
    "deletable": true,
    "new_sheet": false,
    "run_control": {
     "read_only": false
    }
   },
   "outputs": [
    {
     "data": {
      "text/plain": [
       "0    79.99\n",
       "1    61.89\n",
       "2    40.27\n",
       "3    41.05\n",
       "4    44.30\n",
       "Name: Strength, dtype: float64"
      ]
     },
     "execution_count": 9,
     "metadata": {},
     "output_type": "execute_result"
    }
   ],
   "source": [
    "target.head()"
   ]
  },
  {
   "cell_type": "markdown",
   "metadata": {},
   "source": [
    "Let's save the number of predictors to *n_cols* since we will need this number when building our network.\n"
   ]
  },
  {
   "cell_type": "code",
   "execution_count": 10,
   "metadata": {
    "button": false,
    "deletable": true,
    "new_sheet": false,
    "run_control": {
     "read_only": false
    }
   },
   "outputs": [],
   "source": [
    "n_cols = predictors.shape[1] # number of predictors"
   ]
  },
  {
   "cell_type": "markdown",
   "metadata": {
    "button": false,
    "deletable": true,
    "new_sheet": false,
    "run_control": {
     "read_only": false
    }
   },
   "source": [
    "<a id=\"item1\"></a>\n"
   ]
  },
  {
   "cell_type": "markdown",
   "metadata": {},
   "source": [
    "<a id='item32'></a>\n"
   ]
  },
  {
   "cell_type": "markdown",
   "metadata": {
    "button": false,
    "deletable": true,
    "new_sheet": false,
    "run_control": {
     "read_only": false
    }
   },
   "source": [
    "## A. Building a baseline model\n"
   ]
  },
  {
   "cell_type": "markdown",
   "metadata": {
    "button": false,
    "deletable": true,
    "new_sheet": false,
    "run_control": {
     "read_only": false
    }
   },
   "source": [
    "Let's import the packages from the Keras library that we will need to build our regression model.\n"
   ]
  },
  {
   "cell_type": "code",
   "execution_count": 12,
   "metadata": {
    "button": false,
    "deletable": true,
    "new_sheet": false,
    "run_control": {
     "read_only": false
    }
   },
   "outputs": [],
   "source": [
    "from keras.models import Sequential\n",
    "from keras.layers import Dense"
   ]
  },
  {
   "cell_type": "markdown",
   "metadata": {},
   "source": [
    "<a id='item33'></a>\n"
   ]
  },
  {
   "cell_type": "markdown",
   "metadata": {
    "button": false,
    "deletable": true,
    "new_sheet": false,
    "run_control": {
     "read_only": false
    }
   },
   "source": [
    "Let's define a function that defines our regression model for us so that we can conveniently call it to create our model.\n"
   ]
  },
  {
   "cell_type": "code",
   "execution_count": 13,
   "metadata": {
    "button": false,
    "deletable": true,
    "new_sheet": false,
    "run_control": {
     "read_only": false
    }
   },
   "outputs": [],
   "source": [
    "# define regression model\n",
    "def regression_model():\n",
    "    # create model\n",
    "    model = Sequential()\n",
    "    model.add(Dense(10, activation='relu', input_shape=(n_cols,)))\n",
    "    #model.add(Dense(50, activation='relu'))\n",
    "    model.add(Dense(1))\n",
    "    \n",
    "    # compile model\n",
    "    model.compile(optimizer='adam', loss='mean_squared_error')\n",
    "    return model"
   ]
  },
  {
   "cell_type": "markdown",
   "metadata": {},
   "source": [
    "The above function create a model that has one hidden layer of 10 nodes, and a ReLU activation function, using the adam optimizer and the mean squared error as the loss function.\n"
   ]
  },
  {
   "cell_type": "markdown",
   "metadata": {},
   "source": [
    "<a id='item34'></a>\n"
   ]
  },
  {
   "cell_type": "markdown",
   "metadata": {
    "button": false,
    "deletable": true,
    "new_sheet": false,
    "run_control": {
     "read_only": false
    }
   },
   "source": [
    "## Train and Test the Network\n"
   ]
  },
  {
   "cell_type": "markdown",
   "metadata": {},
   "source": [
    "Randomly split the data into a training and test sets by holding 30% of the data for testing"
   ]
  },
  {
   "cell_type": "code",
   "execution_count": 15,
   "metadata": {},
   "outputs": [],
   "source": [
    "from sklearn.model_selection import train_test_split"
   ]
  },
  {
   "cell_type": "code",
   "execution_count": 16,
   "metadata": {},
   "outputs": [],
   "source": [
    "X_train, X_test, y_train, y_test = train_test_split (predictors, target, test_size=0.3)"
   ]
  },
  {
   "cell_type": "markdown",
   "metadata": {},
   "source": [
    "Let's call the function now to create our model.\n"
   ]
  },
  {
   "cell_type": "code",
   "execution_count": 18,
   "metadata": {
    "button": false,
    "deletable": true,
    "new_sheet": false,
    "run_control": {
     "read_only": false
    }
   },
   "outputs": [],
   "source": [
    "# build the model\n",
    "model = regression_model()"
   ]
  },
  {
   "cell_type": "markdown",
   "metadata": {},
   "source": [
    "Next, we will train and test the model at the same time using the *fit* method. We will leave out 30% of the data for validation and we will train the model for 50 epochs.\n"
   ]
  },
  {
   "cell_type": "code",
   "execution_count": 19,
   "metadata": {},
   "outputs": [
    {
     "name": "stdout",
     "output_type": "stream",
     "text": [
      "WARNING:tensorflow:From /home/jupyterlab/conda/envs/python/lib/python3.7/site-packages/keras/backend/tensorflow_backend.py:977: The name tf.assign_add is deprecated. Please use tf.compat.v1.assign_add instead.\n",
      "\n",
      "WARNING:tensorflow:From /home/jupyterlab/conda/envs/python/lib/python3.7/site-packages/keras/backend/tensorflow_backend.py:964: The name tf.assign is deprecated. Please use tf.compat.v1.assign instead.\n",
      "\n",
      "Train on 504 samples, validate on 217 samples\n",
      "Epoch 1/50\n"
     ]
    },
    {
     "name": "stderr",
     "output_type": "stream",
     "text": [
      "2022-10-30 11:52:40.704181: I tensorflow/core/platform/cpu_feature_guard.cc:142] Your CPU supports instructions that this TensorFlow binary was not compiled to use: SSE4.1 SSE4.2 AVX AVX2 AVX512F FMA\n",
      "2022-10-30 11:52:40.711755: I tensorflow/core/platform/profile_utils/cpu_utils.cc:94] CPU Frequency: 2494065000 Hz\n",
      "2022-10-30 11:52:40.712949: I tensorflow/compiler/xla/service/service.cc:168] XLA service 0x55afc6fd1a70 executing computations on platform Host. Devices:\n",
      "2022-10-30 11:52:40.713036: I tensorflow/compiler/xla/service/service.cc:175]   StreamExecutor device (0): <undefined>, <undefined>\n",
      "2022-10-30 11:52:40.831213: W tensorflow/compiler/jit/mark_for_compilation_pass.cc:1412] (One-time warning): Not using XLA:CPU for cluster because envvar TF_XLA_FLAGS=--tf_xla_cpu_global_jit was not set.  If you want XLA:CPU, either set that envvar, or use experimental_jit_scope to enable XLA:CPU.  To confirm that XLA is active, pass --vmodule=xla_compilation_cache=1 (as a proper command-line flag, not via TF_XLA_FLAGS) or set the envvar XLA_FLAGS=--xla_hlo_profile.\n"
     ]
    },
    {
     "name": "stdout",
     "output_type": "stream",
     "text": [
      " - 0s - loss: 58851.5154 - val_loss: 39193.9698\n",
      "Epoch 2/50\n",
      " - 0s - loss: 26731.4375 - val_loss: 14951.2384\n",
      "Epoch 3/50\n",
      " - 0s - loss: 8801.1960 - val_loss: 4067.7497\n",
      "Epoch 4/50\n",
      " - 0s - loss: 2394.3920 - val_loss: 1653.6055\n",
      "Epoch 5/50\n",
      " - 0s - loss: 1572.6911 - val_loss: 1567.4168\n",
      "Epoch 6/50\n",
      " - 0s - loss: 1490.7120 - val_loss: 1431.3494\n",
      "Epoch 7/50\n",
      " - 0s - loss: 1361.2609 - val_loss: 1338.5790\n",
      "Epoch 8/50\n",
      " - 0s - loss: 1275.8605 - val_loss: 1255.5326\n",
      "Epoch 9/50\n",
      " - 0s - loss: 1198.0321 - val_loss: 1175.1021\n",
      "Epoch 10/50\n",
      " - 0s - loss: 1122.7563 - val_loss: 1094.8598\n",
      "Epoch 11/50\n",
      " - 0s - loss: 1050.5817 - val_loss: 1022.5169\n",
      "Epoch 12/50\n",
      " - 0s - loss: 984.4158 - val_loss: 955.6451\n",
      "Epoch 13/50\n",
      " - 0s - loss: 916.6369 - val_loss: 888.6940\n",
      "Epoch 14/50\n",
      " - 0s - loss: 855.3331 - val_loss: 826.7737\n",
      "Epoch 15/50\n",
      " - 0s - loss: 796.8542 - val_loss: 768.9219\n",
      "Epoch 16/50\n",
      " - 0s - loss: 742.0056 - val_loss: 713.8684\n",
      "Epoch 17/50\n",
      " - 0s - loss: 690.5407 - val_loss: 662.3585\n",
      "Epoch 18/50\n",
      " - 0s - loss: 643.4661 - val_loss: 613.1278\n",
      "Epoch 19/50\n",
      " - 0s - loss: 595.1618 - val_loss: 569.0128\n",
      "Epoch 20/50\n",
      " - 0s - loss: 553.7201 - val_loss: 526.6968\n",
      "Epoch 21/50\n",
      " - 0s - loss: 513.0319 - val_loss: 487.2290\n",
      "Epoch 22/50\n",
      " - 0s - loss: 476.8854 - val_loss: 449.1718\n",
      "Epoch 23/50\n",
      " - 0s - loss: 441.6407 - val_loss: 414.5671\n",
      "Epoch 24/50\n",
      " - 0s - loss: 409.9983 - val_loss: 382.5444\n",
      "Epoch 25/50\n",
      " - 0s - loss: 380.9196 - val_loss: 353.9252\n",
      "Epoch 26/50\n",
      " - 0s - loss: 354.6358 - val_loss: 327.2174\n",
      "Epoch 27/50\n",
      " - 0s - loss: 328.0097 - val_loss: 303.4184\n",
      "Epoch 28/50\n",
      " - 0s - loss: 306.5716 - val_loss: 281.2332\n",
      "Epoch 29/50\n",
      " - 0s - loss: 285.0600 - val_loss: 260.8272\n",
      "Epoch 30/50\n",
      " - 0s - loss: 266.7576 - val_loss: 243.3433\n",
      "Epoch 31/50\n",
      " - 0s - loss: 251.2308 - val_loss: 227.5693\n",
      "Epoch 32/50\n",
      " - 0s - loss: 236.4165 - val_loss: 213.3076\n",
      "Epoch 33/50\n",
      " - 0s - loss: 223.0814 - val_loss: 201.5946\n",
      "Epoch 34/50\n",
      " - 0s - loss: 211.7994 - val_loss: 190.3392\n",
      "Epoch 35/50\n",
      " - 0s - loss: 201.7018 - val_loss: 181.0605\n",
      "Epoch 36/50\n",
      " - 0s - loss: 193.7839 - val_loss: 173.2084\n",
      "Epoch 37/50\n",
      " - 0s - loss: 186.8767 - val_loss: 166.5315\n",
      "Epoch 38/50\n",
      " - 0s - loss: 179.1173 - val_loss: 161.0578\n",
      "Epoch 39/50\n",
      " - 0s - loss: 174.2529 - val_loss: 156.5478\n",
      "Epoch 40/50\n",
      " - 0s - loss: 169.6594 - val_loss: 152.0956\n",
      "Epoch 41/50\n",
      " - 0s - loss: 165.8777 - val_loss: 149.0870\n",
      "Epoch 42/50\n",
      " - 0s - loss: 162.1112 - val_loss: 146.0698\n",
      "Epoch 43/50\n",
      " - 0s - loss: 159.6747 - val_loss: 144.2429\n",
      "Epoch 44/50\n",
      " - 0s - loss: 157.4480 - val_loss: 142.2245\n",
      "Epoch 45/50\n",
      " - 0s - loss: 155.0533 - val_loss: 140.7324\n",
      "Epoch 46/50\n",
      " - 0s - loss: 153.2639 - val_loss: 139.9599\n",
      "Epoch 47/50\n",
      " - 0s - loss: 151.5923 - val_loss: 138.6664\n",
      "Epoch 48/50\n",
      " - 0s - loss: 150.8581 - val_loss: 138.1275\n",
      "Epoch 49/50\n",
      " - 0s - loss: 149.6478 - val_loss: 137.5417\n",
      "Epoch 50/50\n",
      " - 0s - loss: 148.2981 - val_loss: 137.1601\n"
     ]
    },
    {
     "data": {
      "text/plain": [
       "<keras.callbacks.History at 0x7f52ae078910>"
      ]
     },
     "execution_count": 19,
     "metadata": {},
     "output_type": "execute_result"
    }
   ],
   "source": [
    "# fit the model\n",
    "model.fit(X_train, y_train, validation_split=0.3, epochs=50, verbose=2)"
   ]
  },
  {
   "cell_type": "markdown",
   "metadata": {},
   "source": [
    "Now, we evaluate the model on the test data and compute the mean squared error between the predicted concrete strength and the actual concrete strength."
   ]
  },
  {
   "cell_type": "code",
   "execution_count": 20,
   "metadata": {},
   "outputs": [
    {
     "name": "stdout",
     "output_type": "stream",
     "text": [
      "309/309 [==============================] - 0s 55us/step\n"
     ]
    },
    {
     "data": {
      "text/plain": [
       "134.6609123748483"
      ]
     },
     "execution_count": 20,
     "metadata": {},
     "output_type": "execute_result"
    }
   ],
   "source": [
    "model.evaluate(X_test, y_test)"
   ]
  },
  {
   "cell_type": "code",
   "execution_count": 23,
   "metadata": {},
   "outputs": [],
   "source": [
    "y_pred = model.predict(X_test)"
   ]
  },
  {
   "cell_type": "code",
   "execution_count": 24,
   "metadata": {},
   "outputs": [],
   "source": [
    "from sklearn.metrics import mean_squared_error"
   ]
  },
  {
   "cell_type": "code",
   "execution_count": 26,
   "metadata": {},
   "outputs": [],
   "source": [
    "result = mean_squared_error (y_test, y_pred)"
   ]
  },
  {
   "cell_type": "markdown",
   "metadata": {},
   "source": [
    "Saving the result in a list"
   ]
  },
  {
   "cell_type": "code",
   "execution_count": 27,
   "metadata": {},
   "outputs": [],
   "source": [
    "mse_list = []\n",
    "mse_list.append(result)"
   ]
  },
  {
   "cell_type": "markdown",
   "metadata": {},
   "source": [
    "Repeating last steps 49 more times to create a list of 50 mean squared errors."
   ]
  },
  {
   "cell_type": "code",
   "execution_count": 32,
   "metadata": {},
   "outputs": [
    {
     "name": "stdout",
     "output_type": "stream",
     "text": [
      "309/309 [==============================] - 0s 19us/step\n",
      "309/309 [==============================] - 0s 62us/step\n",
      "309/309 [==============================] - 0s 48us/step\n",
      "309/309 [==============================] - 0s 44us/step\n",
      "309/309 [==============================] - 0s 20us/step\n",
      "309/309 [==============================] - 0s 39us/step\n",
      "309/309 [==============================] - 0s 23us/step\n",
      "309/309 [==============================] - 0s 21us/step\n",
      "309/309 [==============================] - 0s 44us/step\n",
      "309/309 [==============================] - 0s 48us/step\n",
      "309/309 [==============================] - 0s 30us/step\n",
      "309/309 [==============================] - 0s 24us/step\n",
      "309/309 [==============================] - 0s 42us/step\n",
      "309/309 [==============================] - 0s 39us/step\n",
      "309/309 [==============================] - 0s 42us/step\n",
      "309/309 [==============================] - 0s 46us/step\n",
      "309/309 [==============================] - 0s 24us/step\n",
      "309/309 [==============================] - 0s 27us/step\n",
      "309/309 [==============================] - 0s 23us/step\n",
      "309/309 [==============================] - 0s 51us/step\n",
      "309/309 [==============================] - 0s 56us/step\n",
      "309/309 [==============================] - 0s 25us/step\n",
      "309/309 [==============================] - 0s 54us/step\n",
      "309/309 [==============================] - 0s 48us/step\n",
      "309/309 [==============================] - 0s 39us/step\n",
      "309/309 [==============================] - 0s 55us/step\n",
      "309/309 [==============================] - 0s 26us/step\n",
      "309/309 [==============================] - 0s 29us/step\n",
      "309/309 [==============================] - 0s 49us/step\n",
      "309/309 [==============================] - 0s 48us/step\n",
      "309/309 [==============================] - 0s 112us/step\n",
      "309/309 [==============================] - 0s 54us/step\n",
      "309/309 [==============================] - 0s 49us/step\n",
      "309/309 [==============================] - 0s 34us/step\n",
      "309/309 [==============================] - 0s 29us/step\n",
      "309/309 [==============================] - 0s 48us/step\n",
      "309/309 [==============================] - 0s 31us/step\n",
      "309/309 [==============================] - 0s 51us/step\n",
      "309/309 [==============================] - 0s 42us/step\n",
      "309/309 [==============================] - 0s 44us/step\n",
      "309/309 [==============================] - 0s 46us/step\n",
      "309/309 [==============================] - 0s 64us/step\n",
      "309/309 [==============================] - 0s 51us/step\n",
      "309/309 [==============================] - 0s 46us/step\n",
      "309/309 [==============================] - 0s 39us/step\n",
      "309/309 [==============================] - 0s 47us/step\n",
      "309/309 [==============================] - 0s 53us/step\n",
      "309/309 [==============================] - 0s 49us/step\n",
      "309/309 [==============================] - 0s 63us/step\n"
     ]
    }
   ],
   "source": [
    "for i in range(0,49):\n",
    "    X_train, X_test, y_train, y_test = train_test_split (predictors, target, test_size=0.3)\n",
    "    model = regression_model()\n",
    "    model.fit(X_train, y_train, validation_split=0.3, epochs=50, verbose=0)\n",
    "    model.evaluate(X_test, y_test)\n",
    "    y_pred = model.predict(X_test)\n",
    "    result = mean_squared_error (y_test, y_pred)\n",
    "    mse_list.append(result)"
   ]
  },
  {
   "cell_type": "markdown",
   "metadata": {},
   "source": [
    "Reporting the mean and the standard deviation of the mean squared errors."
   ]
  },
  {
   "cell_type": "code",
   "execution_count": 40,
   "metadata": {},
   "outputs": [
    {
     "name": "stdout",
     "output_type": "stream",
     "text": [
      "Mean: 510.98860854756936, Standard Deviation: 870.8856310191395\n"
     ]
    }
   ],
   "source": [
    "print(f'Mean: {np.mean(mse_list)}, Standard Deviation: {np.std(mse_list)}')"
   ]
  },
  {
   "cell_type": "markdown",
   "metadata": {},
   "source": [
    "## B. Normalizing the data"
   ]
  },
  {
   "cell_type": "markdown",
   "metadata": {},
   "source": [
    "Let's repeat Part A but using a normalized version of the data"
   ]
  },
  {
   "cell_type": "markdown",
   "metadata": {
    "button": false,
    "deletable": true,
    "new_sheet": false,
    "run_control": {
     "read_only": false
    }
   },
   "source": [
    "We normalize the data by substracting the mean and dividing by the standard deviation.\n"
   ]
  },
  {
   "cell_type": "code",
   "execution_count": 42,
   "metadata": {
    "button": false,
    "deletable": true,
    "new_sheet": false,
    "run_control": {
     "read_only": false
    }
   },
   "outputs": [
    {
     "data": {
      "text/html": [
       "<div>\n",
       "<style scoped>\n",
       "    .dataframe tbody tr th:only-of-type {\n",
       "        vertical-align: middle;\n",
       "    }\n",
       "\n",
       "    .dataframe tbody tr th {\n",
       "        vertical-align: top;\n",
       "    }\n",
       "\n",
       "    .dataframe thead th {\n",
       "        text-align: right;\n",
       "    }\n",
       "</style>\n",
       "<table border=\"1\" class=\"dataframe\">\n",
       "  <thead>\n",
       "    <tr style=\"text-align: right;\">\n",
       "      <th></th>\n",
       "      <th>Cement</th>\n",
       "      <th>Blast Furnace Slag</th>\n",
       "      <th>Fly Ash</th>\n",
       "      <th>Water</th>\n",
       "      <th>Superplasticizer</th>\n",
       "      <th>Coarse Aggregate</th>\n",
       "      <th>Fine Aggregate</th>\n",
       "      <th>Age</th>\n",
       "    </tr>\n",
       "  </thead>\n",
       "  <tbody>\n",
       "    <tr>\n",
       "      <th>0</th>\n",
       "      <td>2.476712</td>\n",
       "      <td>-0.856472</td>\n",
       "      <td>-0.846733</td>\n",
       "      <td>-0.916319</td>\n",
       "      <td>-0.620147</td>\n",
       "      <td>0.862735</td>\n",
       "      <td>-1.217079</td>\n",
       "      <td>-0.279597</td>\n",
       "    </tr>\n",
       "    <tr>\n",
       "      <th>1</th>\n",
       "      <td>2.476712</td>\n",
       "      <td>-0.856472</td>\n",
       "      <td>-0.846733</td>\n",
       "      <td>-0.916319</td>\n",
       "      <td>-0.620147</td>\n",
       "      <td>1.055651</td>\n",
       "      <td>-1.217079</td>\n",
       "      <td>-0.279597</td>\n",
       "    </tr>\n",
       "    <tr>\n",
       "      <th>2</th>\n",
       "      <td>0.491187</td>\n",
       "      <td>0.795140</td>\n",
       "      <td>-0.846733</td>\n",
       "      <td>2.174405</td>\n",
       "      <td>-1.038638</td>\n",
       "      <td>-0.526262</td>\n",
       "      <td>-2.239829</td>\n",
       "      <td>3.551340</td>\n",
       "    </tr>\n",
       "    <tr>\n",
       "      <th>3</th>\n",
       "      <td>0.491187</td>\n",
       "      <td>0.795140</td>\n",
       "      <td>-0.846733</td>\n",
       "      <td>2.174405</td>\n",
       "      <td>-1.038638</td>\n",
       "      <td>-0.526262</td>\n",
       "      <td>-2.239829</td>\n",
       "      <td>5.055221</td>\n",
       "    </tr>\n",
       "    <tr>\n",
       "      <th>4</th>\n",
       "      <td>-0.790075</td>\n",
       "      <td>0.678079</td>\n",
       "      <td>-0.846733</td>\n",
       "      <td>0.488555</td>\n",
       "      <td>-1.038638</td>\n",
       "      <td>0.070492</td>\n",
       "      <td>0.647569</td>\n",
       "      <td>4.976069</td>\n",
       "    </tr>\n",
       "  </tbody>\n",
       "</table>\n",
       "</div>"
      ],
      "text/plain": [
       "     Cement  Blast Furnace Slag   Fly Ash     Water  Superplasticizer  \\\n",
       "0  2.476712           -0.856472 -0.846733 -0.916319         -0.620147   \n",
       "1  2.476712           -0.856472 -0.846733 -0.916319         -0.620147   \n",
       "2  0.491187            0.795140 -0.846733  2.174405         -1.038638   \n",
       "3  0.491187            0.795140 -0.846733  2.174405         -1.038638   \n",
       "4 -0.790075            0.678079 -0.846733  0.488555         -1.038638   \n",
       "\n",
       "   Coarse Aggregate  Fine Aggregate       Age  \n",
       "0          0.862735       -1.217079 -0.279597  \n",
       "1          1.055651       -1.217079 -0.279597  \n",
       "2         -0.526262       -2.239829  3.551340  \n",
       "3         -0.526262       -2.239829  5.055221  \n",
       "4          0.070492        0.647569  4.976069  "
      ]
     },
     "execution_count": 42,
     "metadata": {},
     "output_type": "execute_result"
    }
   ],
   "source": [
    "predictors_norm = (predictors - predictors.mean()) / predictors.std()\n",
    "predictors_norm.head()"
   ]
  },
  {
   "cell_type": "code",
   "execution_count": 43,
   "metadata": {},
   "outputs": [
    {
     "name": "stdout",
     "output_type": "stream",
     "text": [
      "309/309 [==============================] - 0s 55us/step\n",
      "309/309 [==============================] - 0s 49us/step\n",
      "309/309 [==============================] - 0s 52us/step\n",
      "309/309 [==============================] - 0s 49us/step\n",
      "309/309 [==============================] - 0s 54us/step\n",
      "309/309 [==============================] - 0s 31us/step\n",
      "309/309 [==============================] - 0s 62us/step\n",
      "309/309 [==============================] - 0s 50us/step\n",
      "309/309 [==============================] - 0s 50us/step\n",
      "309/309 [==============================] - 0s 56us/step\n",
      "309/309 [==============================] - 0s 47us/step\n",
      "309/309 [==============================] - 0s 59us/step\n",
      "309/309 [==============================] - 0s 60us/step\n",
      "309/309 [==============================] - 0s 49us/step\n",
      "309/309 [==============================] - 0s 50us/step\n",
      "309/309 [==============================] - 0s 51us/step\n",
      "309/309 [==============================] - 0s 54us/step\n",
      "309/309 [==============================] - 0s 62us/step\n",
      "309/309 [==============================] - 0s 53us/step\n",
      "309/309 [==============================] - 0s 61us/step\n",
      "309/309 [==============================] - 0s 54us/step\n",
      "309/309 [==============================] - 0s 57us/step\n",
      "309/309 [==============================] - 0s 59us/step\n",
      "309/309 [==============================] - 0s 64us/step\n",
      "309/309 [==============================] - 0s 59us/step\n",
      "309/309 [==============================] - 0s 85us/step\n",
      "309/309 [==============================] - 0s 55us/step\n",
      "309/309 [==============================] - 0s 49us/step\n",
      "309/309 [==============================] - 0s 81us/step\n",
      "309/309 [==============================] - 0s 73us/step\n",
      "309/309 [==============================] - 0s 62us/step\n",
      "309/309 [==============================] - 0s 58us/step\n",
      "309/309 [==============================] - 0s 57us/step\n",
      "309/309 [==============================] - 0s 56us/step\n",
      "309/309 [==============================] - 0s 84us/step\n",
      "309/309 [==============================] - 0s 67us/step\n",
      "309/309 [==============================] - 0s 48us/step\n",
      "309/309 [==============================] - 0s 88us/step\n",
      "309/309 [==============================] - 0s 58us/step\n",
      "309/309 [==============================] - 0s 54us/step\n",
      "309/309 [==============================] - 0s 62us/step\n",
      "309/309 [==============================] - 0s 45us/step\n",
      "309/309 [==============================] - 0s 54us/step\n",
      "309/309 [==============================] - 0s 62us/step\n",
      "309/309 [==============================] - 0s 61us/step\n",
      "309/309 [==============================] - 0s 62us/step\n",
      "309/309 [==============================] - 0s 82us/step\n",
      "309/309 [==============================] - 0s 82us/step\n",
      "309/309 [==============================] - 0s 66us/step\n",
      "309/309 [==============================] - 0s 69us/step\n"
     ]
    }
   ],
   "source": [
    "mse_normal_list = []\n",
    "for i in range(0,50):\n",
    "    X_train, X_test, y_train, y_test = train_test_split (predictors_norm, target, test_size=0.3)\n",
    "    model = regression_model()\n",
    "    model.fit(X_train, y_train, validation_split=0.3, epochs=50, verbose=0)\n",
    "    model.evaluate(X_test, y_test)\n",
    "    y_pred = model.predict(X_test)\n",
    "    result = mean_squared_error (y_test, y_pred)\n",
    "    mse_normal_list.append(result)"
   ]
  },
  {
   "cell_type": "markdown",
   "metadata": {},
   "source": [
    "Reporting the mean and the standard deviation of the mean squared errors."
   ]
  },
  {
   "cell_type": "code",
   "execution_count": 44,
   "metadata": {},
   "outputs": [
    {
     "name": "stdout",
     "output_type": "stream",
     "text": [
      "Mean: 633.1236844141929, Standard Deviation: 128.90877093089813\n"
     ]
    }
   ],
   "source": [
    "print(f'Mean: {np.mean(mse_normal_list)}, Standard Deviation: {np.std(mse_normal_list)}')"
   ]
  },
  {
   "cell_type": "markdown",
   "metadata": {},
   "source": [
    "The mean is greater than the first time and the standard deviation is much smaller, showing that normalized data is better for the model performance."
   ]
  },
  {
   "cell_type": "markdown",
   "metadata": {},
   "source": [
    "## C. Increasing the number of epochs"
   ]
  },
  {
   "cell_type": "markdown",
   "metadata": {},
   "source": [
    "Let's repeat Part B but using 100 epochs this time for training."
   ]
  },
  {
   "cell_type": "code",
   "execution_count": 45,
   "metadata": {},
   "outputs": [
    {
     "name": "stdout",
     "output_type": "stream",
     "text": [
      "309/309 [==============================] - 0s 74us/step\n",
      "309/309 [==============================] - 0s 56us/step\n",
      "309/309 [==============================] - 0s 56us/step\n",
      "309/309 [==============================] - 0s 60us/step\n",
      "309/309 [==============================] - 0s 65us/step\n",
      "309/309 [==============================] - 0s 68us/step\n",
      "309/309 [==============================] - 0s 68us/step\n",
      "309/309 [==============================] - 0s 70us/step\n",
      "309/309 [==============================] - 0s 60us/step\n",
      "309/309 [==============================] - 0s 64us/step\n",
      "309/309 [==============================] - 0s 63us/step\n",
      "309/309 [==============================] - 0s 65us/step\n",
      "309/309 [==============================] - 0s 97us/step\n",
      "309/309 [==============================] - 0s 59us/step\n",
      "309/309 [==============================] - 0s 198us/step\n",
      "309/309 [==============================] - 0s 95us/step\n",
      "309/309 [==============================] - 0s 66us/step\n",
      "309/309 [==============================] - 0s 87us/step\n",
      "309/309 [==============================] - 0s 58us/step\n",
      "309/309 [==============================] - 0s 80us/step\n",
      "309/309 [==============================] - 0s 73us/step\n",
      "309/309 [==============================] - 0s 72us/step\n",
      "309/309 [==============================] - 0s 58us/step\n",
      "309/309 [==============================] - 0s 61us/step\n",
      "309/309 [==============================] - 0s 57us/step\n",
      "309/309 [==============================] - 0s 64us/step\n",
      "309/309 [==============================] - 0s 88us/step\n",
      "309/309 [==============================] - 0s 66us/step\n",
      "309/309 [==============================] - 0s 61us/step\n",
      "309/309 [==============================] - 0s 82us/step\n",
      "309/309 [==============================] - 0s 86us/step\n",
      "309/309 [==============================] - 0s 86us/step\n",
      "309/309 [==============================] - 0s 55us/step\n",
      "309/309 [==============================] - 0s 87us/step\n",
      "309/309 [==============================] - 0s 83us/step\n",
      "309/309 [==============================] - 0s 105us/step\n",
      "309/309 [==============================] - 0s 65us/step\n",
      "309/309 [==============================] - 0s 190us/step\n",
      "309/309 [==============================] - 0s 110us/step\n",
      "309/309 [==============================] - 0s 79us/step\n",
      "309/309 [==============================] - 0s 65us/step\n",
      "309/309 [==============================] - 0s 62us/step\n",
      "309/309 [==============================] - 0s 65us/step\n",
      "309/309 [==============================] - 0s 72us/step\n",
      "309/309 [==============================] - 0s 73us/step\n",
      "309/309 [==============================] - 0s 64us/step\n",
      "309/309 [==============================] - 0s 97us/step\n",
      "309/309 [==============================] - 0s 90us/step\n",
      "309/309 [==============================] - 0s 67us/step\n",
      "309/309 [==============================] - 0s 75us/step\n"
     ]
    }
   ],
   "source": [
    "mse_C_epochs_list = []\n",
    "for i in range(0,50):\n",
    "    X_train, X_test, y_train, y_test = train_test_split (predictors_norm, target, test_size=0.3)\n",
    "    model = regression_model()\n",
    "    model.fit(X_train, y_train, validation_split=0.3, epochs=100, verbose=0)\n",
    "    model.evaluate(X_test, y_test)\n",
    "    y_pred = model.predict(X_test)\n",
    "    result = mean_squared_error (y_test, y_pred)\n",
    "    mse_C_epochs_list.append(result)"
   ]
  },
  {
   "cell_type": "markdown",
   "metadata": {},
   "source": [
    "Reporting the mean and the standard deviation of the mean squared errors."
   ]
  },
  {
   "cell_type": "code",
   "execution_count": 46,
   "metadata": {},
   "outputs": [
    {
     "name": "stdout",
     "output_type": "stream",
     "text": [
      "Mean: 221.48667952019608, Standard Deviation: 44.82715987226672\n"
     ]
    }
   ],
   "source": [
    "print(f'Mean: {np.mean(mse_C_epochs_list)}, Standard Deviation: {np.std(mse_C_epochs_list)}')"
   ]
  },
  {
   "cell_type": "markdown",
   "metadata": {},
   "source": [
    "The mean is much smaller now and the standard deviation is even smaller than before, showing that more training time made our model perform better."
   ]
  },
  {
   "cell_type": "markdown",
   "metadata": {},
   "source": [
    "## D. Increasing the number of hidden layers"
   ]
  },
  {
   "cell_type": "markdown",
   "metadata": {},
   "source": [
    "Let's repeat part B but using three hidden layers of 10 nodes each and ReLU activation function."
   ]
  },
  {
   "cell_type": "code",
   "execution_count": 47,
   "metadata": {},
   "outputs": [],
   "source": [
    "# define regression model\n",
    "def deeper_regression_model():\n",
    "    # create model\n",
    "    model = Sequential()\n",
    "    model.add(Dense(10, activation='relu', input_shape=(n_cols,)))\n",
    "    model.add(Dense(10, activation='relu'))\n",
    "    model.add(Dense(10, activation='relu'))\n",
    "    model.add(Dense(1))\n",
    "    \n",
    "    # compile model\n",
    "    model.compile(optimizer='adam', loss='mean_squared_error')\n",
    "    return model"
   ]
  },
  {
   "cell_type": "code",
   "execution_count": 48,
   "metadata": {},
   "outputs": [
    {
     "name": "stdout",
     "output_type": "stream",
     "text": [
      "309/309 [==============================] - 0s 85us/step\n",
      "309/309 [==============================] - 0s 67us/step\n",
      "309/309 [==============================] - 0s 76us/step\n",
      "309/309 [==============================] - 0s 74us/step\n",
      "309/309 [==============================] - 0s 98us/step\n",
      "309/309 [==============================] - 0s 88us/step\n",
      "309/309 [==============================] - 0s 85us/step\n",
      "309/309 [==============================] - 0s 88us/step\n",
      "309/309 [==============================] - 0s 74us/step\n",
      "309/309 [==============================] - 0s 78us/step\n",
      "309/309 [==============================] - 0s 80us/step\n",
      "309/309 [==============================] - 0s 93us/step\n",
      "309/309 [==============================] - 0s 95us/step\n",
      "309/309 [==============================] - 0s 84us/step\n",
      "309/309 [==============================] - 0s 90us/step\n",
      "309/309 [==============================] - 0s 81us/step\n",
      "309/309 [==============================] - 0s 91us/step\n",
      "309/309 [==============================] - 0s 92us/step\n",
      "309/309 [==============================] - 0s 100us/step\n",
      "309/309 [==============================] - 0s 89us/step\n",
      "309/309 [==============================] - 0s 91us/step\n",
      "309/309 [==============================] - 0s 74us/step\n",
      "309/309 [==============================] - 0s 90us/step\n",
      "309/309 [==============================] - 0s 88us/step\n",
      "309/309 [==============================] - 0s 95us/step\n",
      "309/309 [==============================] - 0s 107us/step\n",
      "309/309 [==============================] - 0s 82us/step\n",
      "309/309 [==============================] - 0s 84us/step\n",
      "309/309 [==============================] - 0s 97us/step\n",
      "309/309 [==============================] - 0s 94us/step\n",
      "309/309 [==============================] - 0s 91us/step\n",
      "309/309 [==============================] - 0s 109us/step\n",
      "309/309 [==============================] - 0s 94us/step\n",
      "309/309 [==============================] - 0s 94us/step\n",
      "309/309 [==============================] - 0s 89us/step\n",
      "309/309 [==============================] - 0s 104us/step\n",
      "309/309 [==============================] - 0s 85us/step\n",
      "309/309 [==============================] - 0s 89us/step\n",
      "309/309 [==============================] - 0s 101us/step\n",
      "309/309 [==============================] - 0s 92us/step\n",
      "309/309 [==============================] - 0s 99us/step\n",
      "309/309 [==============================] - 0s 93us/step\n",
      "309/309 [==============================] - 0s 102us/step\n",
      "309/309 [==============================] - 0s 89us/step\n",
      "309/309 [==============================] - 0s 95us/step\n",
      "309/309 [==============================] - 0s 91us/step\n",
      "309/309 [==============================] - 0s 89us/step\n",
      "309/309 [==============================] - 0s 126us/step\n",
      "309/309 [==============================] - 0s 98us/step\n",
      "309/309 [==============================] - 0s 103us/step\n"
     ]
    }
   ],
   "source": [
    "mse_deeper_list = []\n",
    "for i in range(0,50):\n",
    "    X_train, X_test, y_train, y_test = train_test_split (predictors_norm, target, test_size=0.3)\n",
    "    model = deeper_regression_model()\n",
    "    model.fit(X_train, y_train, validation_split=0.3, epochs=50, verbose=0)\n",
    "    model.evaluate(X_test, y_test)\n",
    "    y_pred = model.predict(X_test)\n",
    "    result = mean_squared_error (y_test, y_pred)\n",
    "    mse_deeper_list.append(result)"
   ]
  },
  {
   "cell_type": "markdown",
   "metadata": {},
   "source": [
    "Reporting the mean and the standard deviation of the mean squared errors."
   ]
  },
  {
   "cell_type": "code",
   "execution_count": 49,
   "metadata": {},
   "outputs": [
    {
     "name": "stdout",
     "output_type": "stream",
     "text": [
      "Mean: 145.30492711477035, Standard Deviation: 16.50626640610705\n"
     ]
    }
   ],
   "source": [
    "print(f'Mean: {np.mean(mse_deeper_list)}, Standard Deviation: {np.std(mse_deeper_list)}')"
   ]
  },
  {
   "cell_type": "markdown",
   "metadata": {},
   "source": [
    "The mean is smaller than the last time and the standard deviation is also smaller, showing that more layers did well to the model performance even with half the training time."
   ]
  }
 ],
 "metadata": {
  "kernelspec": {
   "display_name": "Python",
   "language": "python",
   "name": "conda-env-python-py"
  },
  "language_info": {
   "codemirror_mode": {
    "name": "ipython",
    "version": 3
   },
   "file_extension": ".py",
   "mimetype": "text/x-python",
   "name": "python",
   "nbconvert_exporter": "python",
   "pygments_lexer": "ipython3",
   "version": "3.7.12"
  }
 },
 "nbformat": 4,
 "nbformat_minor": 4
}
